{
 "cells": [
  {
   "cell_type": "markdown",
   "metadata": {},
   "source": [
    "# Chapter 35 pick information out of a list of dictionaries"
   ]
  },
  {
   "cell_type": "code",
   "execution_count": 6,
   "metadata": {},
   "outputs": [
    {
     "data": {
      "text/plain": [
       "12"
      ]
     },
     "execution_count": 6,
     "metadata": {},
     "output_type": "execute_result"
    }
   ],
   "source": [
    " customers = [\n",
    "     {\"customer id\": 12,\n",
    "      \"first name\":\"John\",\n",
    "      \"last name\": \"Ogden\",\n",
    "         \"address\": \"301 Arbor Rd.\",\n",
    "     },\n",
    "     {\"customer id\": 11,\n",
    "      \"first name\":\"Ann\",\n",
    "      \"last name\": \"Sattermyer\",\n",
    "      \"address\": \"PO Box 1145\",\n",
    "     },\n",
    "     {\"customer id\": 22,\n",
    "      \"first name\":\"Jill\",\n",
    "      \"last name\": \"Somers\",\n",
    "      \"address\": \"3 Main St.\",\n",
    "     },\n",
    " ]\n",
    "    \n",
    "customers\n",
    "a = customers[0]\n",
    "customers_ID = a['customer id']\n",
    "\n",
    "customers_ID"
   ]
  },
  {
   "cell_type": "code",
   "execution_count": null,
   "metadata": {},
   "outputs": [],
   "source": []
  }
 ],
 "metadata": {
  "kernelspec": {
   "display_name": "Python 3",
   "language": "python",
   "name": "python3"
  },
  "language_info": {
   "codemirror_mode": {
    "name": "ipython",
    "version": 3
   },
   "file_extension": ".py",
   "mimetype": "text/x-python",
   "name": "python",
   "nbconvert_exporter": "python",
   "pygments_lexer": "ipython3",
   "version": "3.6.5"
  }
 },
 "nbformat": 4,
 "nbformat_minor": 2
}

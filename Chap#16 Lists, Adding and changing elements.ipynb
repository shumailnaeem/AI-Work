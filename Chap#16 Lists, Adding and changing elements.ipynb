{
 "cells": [
  {
   "cell_type": "markdown",
   "metadata": {},
   "source": [
    "# Chap#16 Lists, Adding and changing elements"
   ]
  },
  {
   "cell_type": "code",
   "execution_count": 1,
   "metadata": {},
   "outputs": [
    {
     "name": "stdout",
     "output_type": "stream",
     "text": [
      "['Islamabad', 'Karachi', 'Lahore', 'Multan', 'Hydrabad', 'Peshawar', 'Quetta']\n"
     ]
    }
   ],
   "source": [
    "cities = [\"Islamabad\", \"Karachi\", \"Lahore\", \"Multan\", \"Hydrabad\", \"Peshawar\"]\n",
    "cities.append(\"Quetta\")\n",
    "print(cities)"
   ]
  },
  {
   "cell_type": "code",
   "execution_count": 2,
   "metadata": {},
   "outputs": [
    {
     "name": "stdout",
     "output_type": "stream",
     "text": [
      "['Islamabad', 'Karachi', 'Quetta', 'Lahore', 'Multan', 'Hydrabad', 'Peshawar']\n"
     ]
    }
   ],
   "source": [
    "cities = [\"Islamabad\", \"Karachi\", \"Lahore\", \"Multan\", \"Hydrabad\", \"Peshawar\"]\n",
    "cities.insert(2,\"Quetta\")\n",
    "print(cities)"
   ]
  },
  {
   "cell_type": "code",
   "execution_count": null,
   "metadata": {},
   "outputs": [],
   "source": []
  }
 ],
 "metadata": {
  "kernelspec": {
   "display_name": "Python 3",
   "language": "python",
   "name": "python3"
  },
  "language_info": {
   "codemirror_mode": {
    "name": "ipython",
    "version": 3
   },
   "file_extension": ".py",
   "mimetype": "text/x-python",
   "name": "python",
   "nbconvert_exporter": "python",
   "pygments_lexer": "ipython3",
   "version": "3.6.5"
  }
 },
 "nbformat": 4,
 "nbformat_minor": 2
}

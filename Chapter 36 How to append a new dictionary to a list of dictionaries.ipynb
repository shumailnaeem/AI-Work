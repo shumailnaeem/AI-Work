{
 "cells": [
  {
   "cell_type": "markdown",
   "metadata": {},
   "source": [
    "# Chapter 36 How to append a new dictionary to a list of dictionaries"
   ]
  },
  {
   "cell_type": "code",
   "execution_count": 10,
   "metadata": {},
   "outputs": [
    {
     "name": "stdout",
     "output_type": "stream",
     "text": [
      "[{'customer id': 0, 'first name': 'John', 'last name': 'Ogden', 'address': '301 Arbor Rd.'}, {'customer id': 1, 'first name': 'Jill', 'last name:': 'Somers', 'address': '3 Main St.'}]\n"
     ]
    }
   ],
   "source": [
    " customers = [\n",
    "     {\"customer id\": 0,\n",
    "      \"first name\":\"John\",\n",
    "      \"last name\": \"Ogden\",\n",
    "         \"address\": \"301 Arbor Rd.\",\n",
    "     },\n",
    " ]\n",
    "new_customer_id = len(customers)\n",
    "new_first_name = \"Jill\"\n",
    "new_last_name = \"Somers\"\n",
    "new_address = \"3 Main St.\"\n",
    "new_dictionary = {\n",
    "  \"customer id\": new_customer_id,\n",
    "  \"first name\": new_first_name,\n",
    "  \"last name:\": new_last_name,\n",
    "    \"address\": new_address,\n",
    "}\n",
    "customers.append(new_dictionary)\n",
    "print(customers)\n"
   ]
  },
  {
   "cell_type": "code",
   "execution_count": 2,
   "metadata": {},
   "outputs": [
    {
     "name": "stdout",
     "output_type": "stream",
     "text": [
      "8\n"
     ]
    }
   ],
   "source": [
    "Listofnums = [1, 2, 3, 4, 5, 6,7,8]\n",
    "x = len(Listofnums)\n",
    "print(x)"
   ]
  },
  {
   "cell_type": "code",
   "execution_count": null,
   "metadata": {},
   "outputs": [],
   "source": []
  }
 ],
 "metadata": {
  "kernelspec": {
   "display_name": "Python 3",
   "language": "python",
   "name": "python3"
  },
  "language_info": {
   "codemirror_mode": {
    "name": "ipython",
    "version": 3
   },
   "file_extension": ".py",
   "mimetype": "text/x-python",
   "name": "python",
   "nbconvert_exporter": "python",
   "pygments_lexer": "ipython3",
   "version": "3.6.5"
  }
 },
 "nbformat": 4,
 "nbformat_minor": 2
}

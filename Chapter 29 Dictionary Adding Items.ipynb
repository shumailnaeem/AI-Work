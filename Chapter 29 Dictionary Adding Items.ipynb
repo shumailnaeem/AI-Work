{
 "cells": [
  {
   "cell_type": "markdown",
   "metadata": {},
   "source": [
    "# Chapter 29 Dictionary Adding Items"
   ]
  },
  {
   "cell_type": "code",
   "execution_count": 5,
   "metadata": {},
   "outputs": [
    {
     "name": "stdout",
     "output_type": "stream",
     "text": [
      "{'name': 'Farhan', 'age': 21}\n",
      "{'name': 'Farhan', 'age': 21, 'Location': 'Karachi'}\n"
     ]
    }
   ],
   "source": [
    "List = {'name':'Farhan', 'age': 21}\n",
    "\n",
    "List\n",
    "#Output: \n",
    "print(List)\n",
    "\n",
    "# add item\n",
    "List['Location'] = 'Karachi'  \n",
    "\n",
    "# Output: \n",
    "print(List)"
   ]
  },
  {
   "cell_type": "code",
   "execution_count": null,
   "metadata": {},
   "outputs": [],
   "source": []
  }
 ],
 "metadata": {
  "kernelspec": {
   "display_name": "Python 3",
   "language": "python",
   "name": "python3"
  },
  "language_info": {
   "codemirror_mode": {
    "name": "ipython",
    "version": 3
   },
   "file_extension": ".py",
   "mimetype": "text/x-python",
   "name": "python",
   "nbconvert_exporter": "python",
   "pygments_lexer": "ipython3",
   "version": "3.6.5"
  }
 },
 "nbformat": 4,
 "nbformat_minor": 2
}

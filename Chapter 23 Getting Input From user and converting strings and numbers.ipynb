{
 "cells": [
  {
   "cell_type": "markdown",
   "metadata": {},
   "source": [
    "# Chapter 23 Getting Input From user and converting strings and numbers"
   ]
  },
  {
   "cell_type": "code",
   "execution_count": 4,
   "metadata": {},
   "outputs": [
    {
     "name": "stdout",
     "output_type": "stream",
     "text": [
      "Enter your name:\n",
      "Farhan\n",
      "Enter you Age\n",
      "21\n",
      "Your City:\n",
      "Karachi\n",
      "Hello, Farhan Your age is: 21& you are live in Karachi\n",
      "Hello, Farhan Your age is: 21& you are live in Karachi\n"
     ]
    }
   ],
   "source": [
    "print('Enter your name:');\n",
    "#Getting input from user\n",
    "x = input();\n",
    "print ('Enter you Age');\n",
    "a = input();\n",
    "print('Your City:');\n",
    "b = input();\n",
    "print('Hello, ' + x +' Your age is: ' + a +'& you are live in ' + b);\n",
    "\n",
    "\n",
    "\n",
    "#Converting Integer into string\n",
    "print(\"Hello, \" + str(x) + \" Your age is: \" + str(a) + \"& you are live in \" + str(b));"
   ]
  },
  {
   "cell_type": "code",
   "execution_count": null,
   "metadata": {},
   "outputs": [],
   "source": []
  }
 ],
 "metadata": {
  "kernelspec": {
   "display_name": "Python 3",
   "language": "python",
   "name": "python3"
  },
  "language_info": {
   "codemirror_mode": {
    "name": "ipython",
    "version": 3
   },
   "file_extension": ".py",
   "mimetype": "text/x-python",
   "name": "python",
   "nbconvert_exporter": "python",
   "pygments_lexer": "ipython3",
   "version": "3.6.5"
  }
 },
 "nbformat": 4,
 "nbformat_minor": 2
}

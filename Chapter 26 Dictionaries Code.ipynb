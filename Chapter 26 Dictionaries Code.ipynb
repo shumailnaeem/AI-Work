{
 "cells": [
  {
   "cell_type": "markdown",
   "metadata": {},
   "source": [
    "# Chapter 26 Dictionaries Code"
   ]
  },
  {
   "cell_type": "code",
   "execution_count": 3,
   "metadata": {},
   "outputs": [
    {
     "name": "stdout",
     "output_type": "stream",
     "text": [
      "Name: Farhan Ahmed\n",
      "ID: 1451-2015\n",
      "Age: 21\n",
      "Location: Karachi\n"
     ]
    }
   ],
   "source": [
    "Data = {\n",
    "  \"Name:\": \"Farhan Ahmed\",\n",
    "  \"ID:\": \"1451-2015\",\n",
    "  \"Age:\": \"21\",\n",
    "  \"Location:\": \"Karachi\"\n",
    "}\n",
    "\n",
    "for a,b in Data.items():\n",
    "    print(a,b)"
   ]
  },
  {
   "cell_type": "code",
   "execution_count": null,
   "metadata": {},
   "outputs": [],
   "source": []
  }
 ],
 "metadata": {
  "kernelspec": {
   "display_name": "Python 3",
   "language": "python",
   "name": "python3"
  },
  "language_info": {
   "codemirror_mode": {
    "name": "ipython",
    "version": 3
   },
   "file_extension": ".py",
   "mimetype": "text/x-python",
   "name": "python",
   "nbconvert_exporter": "python",
   "pygments_lexer": "ipython3",
   "version": "3.6.5"
  }
 },
 "nbformat": 4,
 "nbformat_minor": 2
}

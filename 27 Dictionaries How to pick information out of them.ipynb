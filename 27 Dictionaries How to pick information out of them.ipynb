{
 "cells": [
  {
   "cell_type": "markdown",
   "metadata": {},
   "source": [
    "# 27 Dictionaries How to pick information out of them"
   ]
  },
  {
   "cell_type": "code",
   "execution_count": 4,
   "metadata": {},
   "outputs": [
    {
     "name": "stdout",
     "output_type": "stream",
     "text": [
      "4803 Wellesley St.\n",
      "first name David\n",
      "last name Elliott\n",
      "address 4803 Wellesley St.\n"
     ]
    }
   ],
   "source": [
    "customer = {\n",
    "    \"first name\": \"David\", \n",
    "    \"last name\": \"Elliott\", \n",
    "    \"address\": \"4803 Wellesley St.\"\n",
    "}\n",
    "address_of_customer = customer[\"address\"]\n",
    "print(address_of_customer)\n",
    "\n",
    "for k,v in customer.items():\n",
    "    print(k,v)"
   ]
  },
  {
   "cell_type": "code",
   "execution_count": null,
   "metadata": {},
   "outputs": [],
   "source": []
  }
 ],
 "metadata": {
  "kernelspec": {
   "display_name": "Python 3",
   "language": "python",
   "name": "python3"
  },
  "language_info": {
   "codemirror_mode": {
    "name": "ipython",
    "version": 3
   },
   "file_extension": ".py",
   "mimetype": "text/x-python",
   "name": "python",
   "nbconvert_exporter": "python",
   "pygments_lexer": "ipython3",
   "version": "3.6.5"
  }
 },
 "nbformat": 4,
 "nbformat_minor": 2
}

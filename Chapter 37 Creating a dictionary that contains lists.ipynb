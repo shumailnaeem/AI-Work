{
 "cells": [
  {
   "cell_type": "markdown",
   "metadata": {},
   "source": [
    "# Chapter 37 Creating a dictionary that contains lists"
   ]
  },
  {
   "cell_type": "code",
   "execution_count": 1,
   "metadata": {},
   "outputs": [
    {
     "name": "stdout",
     "output_type": "stream",
     "text": [
      "{'population': 1000, 'group sizes': [40000, 40000, 20001]}\n"
     ]
    }
   ],
   "source": [
    "dict = {\n",
    "  \"population\": 1000,\n",
    "  \"group sizes\": [40000, 40000, 20001],\n",
    "}\n",
    "print(dict)"
   ]
  },
  {
   "cell_type": "code",
   "execution_count": 2,
   "metadata": {},
   "outputs": [
    {
     "name": "stdout",
     "output_type": "stream",
     "text": [
      "{'products': ['Mountain Dew', 'Sprite', 'Red Bull', 'Pepsi', '7up', 'Coca‑Cola'], 'product qtys': [4, 13, 6, 18, 20, 5, 22]}\n"
     ]
    }
   ],
   "source": [
    "product_lists = {\n",
    "  \"products\": [\"Mountain Dew\", \"Sprite\", \"Red Bull\",\"Pepsi\", \"7up\", \"Coca‑Cola\" ],\n",
    "  \"product qtys\": [4, 13, 6, 18, 20, 5, 22],\n",
    "}\n",
    "print(product_lists)"
   ]
  },
  {
   "cell_type": "code",
   "execution_count": null,
   "metadata": {},
   "outputs": [],
   "source": []
  }
 ],
 "metadata": {
  "kernelspec": {
   "display_name": "Python 3",
   "language": "python",
   "name": "python3"
  },
  "language_info": {
   "codemirror_mode": {
    "name": "ipython",
    "version": 3
   },
   "file_extension": ".py",
   "mimetype": "text/x-python",
   "name": "python",
   "nbconvert_exporter": "python",
   "pygments_lexer": "ipython3",
   "version": "3.6.5"
  }
 },
 "nbformat": 4,
 "nbformat_minor": 2
}
